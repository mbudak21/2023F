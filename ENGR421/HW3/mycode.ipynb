{
 "cells": [
  {
   "cell_type": "code",
   "execution_count": 2,
   "metadata": {},
   "outputs": [],
   "source": [
    "import math\n",
    "import matplotlib.pyplot as plt\n",
    "import numpy as np"
   ]
  },
  {
   "cell_type": "code",
   "execution_count": 3,
   "metadata": {},
   "outputs": [],
   "source": [
    "# read data into memory\n",
    "data_set_train = np.genfromtxt(\"hw03_data_set_train.csv\", delimiter = \",\", skip_header = 1)\n",
    "data_set_test = np.genfromtxt(\"hw03_data_set_test.csv\", delimiter = \",\", skip_header = 1)\n",
    "\n",
    "# get x and y values\n",
    "x_train = data_set_train[:, 0]\n",
    "y_train = data_set_train[:, 1]\n",
    "x_test = data_set_test[:, 0]\n",
    "y_test = data_set_test[:, 1]\n",
    "\n",
    "# x_train = np.array([(i+0.5)/4 for i in range(1, 24)])\n",
    "# y_train = np.array([i**2 for i in range(1, 24)])"
   ]
  },
  {
   "cell_type": "code",
   "execution_count": 4,
   "metadata": {},
   "outputs": [],
   "source": [
    "# set drawing parameters\n",
    "minimum_value = 0\n",
    "maximum_value = 6\n",
    "x_interval = np.arange(start = minimum_value, stop = maximum_value, step = 0.001)"
   ]
  },
  {
   "cell_type": "code",
   "execution_count": 5,
   "metadata": {},
   "outputs": [
    {
     "name": "stdout",
     "output_type": "stream",
     "text": [
      "[1.6 1.8 2.  2.2 2.4 2.6 2.8 3.  3.2 3.4 3.6 3.8 4.  4.2 4.4 4.6 4.8 5.\n",
      " 5.2]\n"
     ]
    }
   ],
   "source": [
    "def regressogram_helper(x_train, h):\n",
    "    # Create borders from the given length h\n",
    "    min_x = min(x_train)\n",
    "    max_x = max(x_train)\n",
    "\n",
    "    borders = np.arange(min_x, max_x + h, h)\n",
    "    \n",
    "    return borders\n",
    "\n",
    "\n",
    "print(regressogram_helper(x_train, 0.2))"
   ]
  },
  {
   "cell_type": "code",
   "execution_count": 6,
   "metadata": {},
   "outputs": [],
   "source": [
    "def regressogram(x_train, y_train, h):\n",
    "\n",
    "    # generate borders\n",
    "    bins = regressogram_helper(x_train, h)\n",
    "\n",
    "    # create empty array for the y values\n",
    "    y_values = np.zeros(len(bins) - 1)\n",
    "\n",
    "    # iterate over the bins\n",
    "    for i in range(len(bins) - 1):\n",
    "        # get the left and right border\n",
    "        left_border = bins[i]\n",
    "        right_border = bins[i + 1]\n",
    "\n",
    "        # get the values in the bin\n",
    "        values_in_bin = [y_train[j] for j in \n",
    "                         range(len(x_train)) if left_border <= x_train[j] < right_border]\n",
    "\n",
    "        # calculate the mean of the values in the bin\n",
    "        y_values[i] = np.mean(values_in_bin)\n",
    "\n",
    "    def model(x):\n",
    "        for i in range(len(bins) - 1):\n",
    "            if (bins[i] <= x) and (x < bins[i + 1]):\n",
    "                return y_values[i]\n",
    "        print(\"Point out of range\")\n",
    "        return 70\n",
    "    \n",
    "    return model"
   ]
  },
  {
   "cell_type": "code",
   "execution_count": 7,
   "metadata": {},
   "outputs": [],
   "source": [
    "model = regressogram(x_train, y_train, 0.2)"
   ]
  },
  {
   "cell_type": "code",
   "execution_count": 8,
   "metadata": {},
   "outputs": [],
   "source": [
    "def plot_figure(x_train, y_train, model, borders):\n",
    "    fig = plt.figure(figsize = (8, 4))\n",
    "    \n",
    "    # plot training data\n",
    "    plt.plot(x_train, y_train, \"b.\", markersize = 10)\n",
    "\n",
    "\n",
    "    # plot model\n",
    "    y_model = []\n",
    "    for x in x_interval:\n",
    "        y_model.append(model(x))\n",
    "\n",
    "    plt.plot(x_interval, y_model)\n",
    "\n",
    "    # plot borders\n",
    "    for border in borders:\n",
    "        plt.axvline(x = border, color = \"r\", linestyle = \"--\")\n",
    "\n",
    "    plt.xlim([1.55, 5.15])\n",
    "    plt.xlabel(\"Time (sec)\")\n",
    "    plt.ylabel(\"Signal (millivolt)\")\n",
    "    plt.legend([\"training\", \"test\"])\n",
    "    plt.show()\n",
    "\n"
   ]
  },
  {
   "cell_type": "code",
   "execution_count": 9,
   "metadata": {},
   "outputs": [
    {
     "name": "stdout",
     "output_type": "stream",
     "text": [
      "RMSE:  6.010365397341137\n"
     ]
    }
   ],
   "source": [
    "def run_test_regressogram():\n",
    "    h=0.35\n",
    "    model = regressogram(x_train, y_train, h)\n",
    "    #plot_figure(x_train, y_train, model, regressogram_helper(x_train, h))\n",
    "    y_test_hat = [model(x) for x in x_test]\n",
    "    rmse = np.sqrt(np.mean((y_test - y_test_hat)**2))\n",
    "    print(\"RMSE: \", rmse)\n",
    "run_test_regressogram()"
   ]
  },
  {
   "cell_type": "code",
   "execution_count": 10,
   "metadata": {},
   "outputs": [
    {
     "name": "stdout",
     "output_type": "stream",
     "text": [
      "[1.6  1.95 2.3  2.65 3.   3.35 3.7  4.05 4.4  4.75 5.1 ]\n"
     ]
    }
   ],
   "source": [
    "print(regressogram_helper(x_train, 0.35))"
   ]
  }
 ],
 "metadata": {
  "kernelspec": {
   "display_name": "Python 3",
   "language": "python",
   "name": "python3"
  },
  "language_info": {
   "codemirror_mode": {
    "name": "ipython",
    "version": 3
   },
   "file_extension": ".py",
   "mimetype": "text/x-python",
   "name": "python",
   "nbconvert_exporter": "python",
   "pygments_lexer": "ipython3",
   "version": "3.11.7"
  }
 },
 "nbformat": 4,
 "nbformat_minor": 2
}
