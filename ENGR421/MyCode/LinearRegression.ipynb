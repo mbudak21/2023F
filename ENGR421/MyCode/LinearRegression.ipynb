{
 "cells": [
  {
   "cell_type": "code",
   "execution_count": 180,
   "id": "0a8f7c25-0145-4b51-9c05-7a1c109d3766",
   "metadata": {},
   "outputs": [],
   "source": [
    "import math\n",
    "import matplotlib.pyplot as plt\n",
    "import numpy as np\n",
    "import scipy.stats as stats\n",
    "import scipy.linalg as linalg\n",
    "from icecream import ic"
   ]
  },
  {
   "cell_type": "code",
   "execution_count": 181,
   "metadata": {},
   "outputs": [],
   "source": [
    "X = np.array([1, 3, 4, 2, 5, 6, 7, 2.5, 3.5, 4.5, 5.5])\n",
    "y = np.array([1, 1, 3, 1, 6, 2, 5, 1, 2, 3, 3])\n",
    "\n",
    "data_set = np.genfromtxt(fname= r\"C:\\Users\\murat\\Desktop\\2023F\\ENGR421\\lab\\Lab 02 - Parametric Methods\\lab02_data_set.csv\", delimiter=\",\", skip_header=1)\n",
    "X = data_set[:, 0]\n",
    "y=data_set[:, 1]"
   ]
  },
  {
   "cell_type": "code",
   "execution_count": 182,
   "metadata": {},
   "outputs": [
    {
     "data": {
      "image/png": "[encoded data removed]",
      "text/plain": [
       "<Figure size 1000x1000 with 1 Axes>"
      ]
     },
     "metadata": {},
     "output_type": "display_data"
    }
   ],
   "source": [
    "data_interval = np.linspace(start = 0, stop = 60, num = 6001)\n",
    "\n",
    "\n",
    "plt.figure(figsize = (10, 10))\n",
    "\n",
    "#Plot points\n",
    "plt.plot(X, y, \"rx\", markersize=5)\n",
    "plt.plot()\n",
    "\n",
    "\n",
    "\n",
    "plt.show()"
   ]
  },
  {
   "cell_type": "markdown",
   "metadata": {},
   "source": [
    "### Regression  \n",
    "**Assumption**: Model is of the form g(x|$\\theta$) := w0+w1*x   \n",
    "\n",
    "**Goal**: Minimize MSE Error := $\\sum_{i=1}^{N} (y_i - g(x_i))^2$   \n",
    "\n"
   ]
  },
  {
   "cell_type": "code",
   "execution_count": 183,
   "metadata": {},
   "outputs": [],
   "source": [
    "def model(x):\n",
    "    return -1 + 2*x"
   ]
  },
  {
   "cell_type": "code",
   "execution_count": 184,
   "metadata": {},
   "outputs": [],
   "source": [
    "def linear_regression(x, y):\n",
    "    x_mean = np.mean(x)\n",
    "    y_mean = np.mean(y)\n",
    "    # Calculating w_1\n",
    "    w_1 = np.sum((x - x_mean) * (y - y_mean)) / np.sum((x - x_mean)**2)\n",
    "    # Calculating w_0\n",
    "    w_0 = y_mean - w_1 * x_mean\n",
    "    print(\"w0: \"+str(w_0))\n",
    "    print(\"w1: \"+str(w_1))\n",
    "\n",
    "    def model(x):\n",
    "        return w_0 + x*w_1\n",
    "    return model"
   ]
  },
  {
   "cell_type": "markdown",
   "metadata": {},
   "source": [
    "\\begin{align*}\n",
    "\\underbrace{\\begin{bmatrix} N & \\sum\\limits_{i = 1}^{N} x_{i}\\\\ \\sum\\limits_{i = 1}^{N} x_{i} & \\sum\\limits_{i = 1}^{N} x_{i}^{2} \\end{bmatrix}}_{\\mathbf{A}} \\underbrace{\\begin{bmatrix}w_{0} \\\\ w_{1} \\end{bmatrix}}_{\\boldsymbol{w}} &= \\underbrace{\\begin{bmatrix}\\sum\\limits_{i = 1}^{N} y_{i} \\\\ \\sum\\limits_{i = 1}^{N} y_{i} x_{i} \\end{bmatrix}}_{\\boldsymbol{b}} \\\\\n",
    "\\boldsymbol{w} &= \\mathbf{A}^{-1} \\boldsymbol{b}\n",
    "\\end{align*}"
   ]
  },
  {
   "cell_type": "code",
   "execution_count": 185,
   "metadata": {},
   "outputs": [],
   "source": [
    "def linear_regression_matrix_form(x, y):\n",
    "    # calculate A\n",
    "    N = len(x)\n",
    "    A = np.array([[N, np.sum(x)],\n",
    "                [np.sum(x), np.sum(x**2)]])\n",
    "    ic(A)\n",
    "    # calculate b\n",
    "    b = np.array([[np.sum(y)], [np.sum(y * x)]])\n",
    "    ic(b)\n",
    "\n",
    "    # calculate w\n",
    "    w = np.matmul(linalg.cho_solve(linalg.cho_factor(A), np.eye(2)), b)\n",
    "    ic(w)\n",
    "    \n",
    "    def model(x):\n",
    "        return w[0] + x*w[1]\n",
    "    return model"
   ]
  },
  {
   "cell_type": "markdown",
   "metadata": {},
   "source": [
    "\\begin{align*}\n",
    "\\underbrace{\\begin{bmatrix} N & \\sum\\limits_{i = 1}^{N} x_{i} & \\dots &  \\sum\\limits_{i = 1}^{N} x_{i}^{K}\\\\ \\sum\\limits_{i = 1}^{N} x_{i} & \\sum\\limits_{i = 1}^{N} x_{i}^{2} & \\dots & \\sum\\limits_{i = 1}^{N} x_{i}^{K + 1}\\\\ \\vdots & \\vdots & \\ddots & \\vdots \\\\\n",
    "\\sum\\limits_{i = 1}^{N} x_{i}^{K} & \\sum\\limits_{i = 1}^{N} x_{i}^{K + 1} & \\dots & \\sum\\limits_{i = 1}^{N} x_{i}^{2K}\\end{bmatrix}}_{\\mathbf{A}} \\underbrace{\\begin{bmatrix}w_{0} \\\\ w_{1} \\\\ \\vdots \\\\ w_{K} \\end{bmatrix}}_{\\boldsymbol{w}} &= \\underbrace{\\begin{bmatrix}\\sum\\limits_{i = 1}^{N} y_{i} \\\\ \\sum\\limits_{i = 1}^{N} y_{i} x_{i} \\\\ \\vdots \\\\ \\sum\\limits_{i = 1}^{N} y_{i} x_{i}^{K} \\end{bmatrix}}_{\\boldsymbol{b}} \\\\\n",
    "\\boldsymbol{w} &= \\mathbf{A}^{-1} \\boldsymbol{b}\n",
    "\\end{align*}"
   ]
  },
  {
   "cell_type": "code",
   "execution_count": 186,
   "metadata": {},
   "outputs": [],
   "source": [
    "def polynomial_regression(x, y, K):\n",
    "    # calculate A\n",
    "    A = np.zeros((K + 1, K + 1))\n",
    "    for i in range(K + 1):\n",
    "        for j in range(K + 1):\n",
    "            A[i, j] = np.sum(x**i * x**j)\n",
    "\n",
    "    # calculate b\n",
    "    b = np.zeros((K + 1, 1))\n",
    "    for i in range(K + 1):\n",
    "        b[i] = np.sum(y * x**i)\n",
    "\n",
    "    # calculate w\n",
    "    w = np.matmul(linalg.cho_solve(linalg.cho_factor(A), np.eye(K + 1)), b)\n",
    "\n",
    "    ic(w)\n",
    "\n",
    "    def model(x):\n",
    "        res = w[0][0]\n",
    "\n",
    "        for i in range(1, K + 1):\n",
    "            res += w[i][0] * (x**i)\n",
    "        return res\n",
    "    \n",
    "\n",
    "    return model"
   ]
  },
  {
   "cell_type": "code",
   "execution_count": 187,
   "metadata": {},
   "outputs": [
    {
     "name": "stderr",
     "output_type": "stream",
     "text": [
      "ic| w: array([[-7.75020775e+02],\n",
      "              [ 7.04316718e+02],\n",
      "              [-2.42969888e+02],\n",
      "              [ 4.25614897e+01],\n",
      "              [-4.29259621e+00],\n",
      "              [ 2.67382263e-01],\n",
      "              [-1.07178671e-02],\n",
      "              [ 2.81407126e-04],\n",
      "              [-4.80972183e-06],\n",
      "              [ 5.15182727e-08],\n",
      "              [-3.13822497e-10],\n",
      "              [ 8.28779461e-13]])\n"
     ]
    },
    {
     "data": {
      "text/plain": [
       "-58.55140718230248"
      ]
     },
     "execution_count": 187,
     "metadata": {},
     "output_type": "execute_result"
    }
   ],
   "source": [
    "model = polynomial_regression(X, y, 11)\n",
    "model(2)"
   ]
  },
  {
   "cell_type": "code",
   "execution_count": 188,
   "metadata": {},
   "outputs": [],
   "source": [
    "def Error(x, y, model):\n",
    "    for i in range(len(x)):\n",
    "        print(\"Diff: \" + str((y[i]-model(x[i]))))\n",
    "    return np.sum((y-model(x))**2)"
   ]
  },
  {
   "cell_type": "code",
   "execution_count": 189,
   "metadata": {},
   "outputs": [
    {
     "name": "stdout",
     "output_type": "stream",
     "text": [
      "Diff: -29.652352525003693\n",
      "Diff: 14.539260859541727\n",
      "Diff: -7.506665073736713\n",
      "Diff: 7.498100215615704\n",
      "Diff: -19.54542309030512\n",
      "Diff: -12.103648206580218\n",
      "Diff: -11.306462548421141\n",
      "Diff: 21.33634250958923\n",
      "Diff: -3.8628869770267924\n",
      "Diff: -6.3330669540911915\n",
      "Diff: 1.2181115649419922\n",
      "Diff: 8.911225173840702\n",
      "Diff: -66.89479704032655\n",
      "Diff: -15.088184462673961\n",
      "Diff: -21.17021209258141\n",
      "Diff: 1.6560771093188507\n",
      "Diff: -25.50364820658021\n",
      "Diff: 10.016984969768963\n",
      "Diff: -81.12145896738221\n",
      "Diff: 14.353925853432155\n",
      "Diff: 51.19170854142099\n",
      "Diff: 20.62566480115056\n",
      "Diff: -15.337023942042563\n",
      "Diff: 7.218797925207763\n",
      "Diff: 30.51811156494199\n",
      "Diff: 3.250019770918879\n",
      "Diff: -15.023367411155775\n",
      "Diff: 12.57598127515283\n",
      "Diff: -24.427688678493723\n",
      "Diff: -7.107628721286499\n",
      "Diff: 3.312103386744937\n",
      "Diff: -24.80591021125153\n",
      "Diff: 2.2456164694830765\n",
      "Diff: -35.23077079401482\n",
      "Diff: -2.511333095154259\n",
      "Diff: -17.150811150227554\n",
      "Diff: -1.927635600770003\n",
      "Diff: 2.4267739772796624\n",
      "Diff: 39.45001977091888\n",
      "Diff: -56.76681787225243\n",
      "Diff: -33.24455767742859\n",
      "Diff: 8.602307664966794\n",
      "Diff: 12.976632588844225\n",
      "Diff: -0.35583611225619904\n",
      "Diff: 16.77236439923\n",
      "Diff: 11.532258089640528\n",
      "Diff: -17.577996085621862\n",
      "Diff: 37.571270403527166\n",
      "Diff: 1.9630387967886764\n",
      "Diff: -12.766219796884656\n",
      "Diff: 1.2399633252772162\n",
      "Diff: 44.964805066919865\n",
      "Diff: -10.984682707268092\n",
      "Diff: -16.66620461204409\n",
      "Diff: -4.84271864485272\n",
      "Diff: -25.949484456507342\n",
      "Diff: -40.63519493308013\n",
      "Diff: -10.705075877299532\n",
      "Diff: -3.135194933080129\n",
      "Diff: 18.848876241692196\n",
      "Diff: -10.072818307951092\n",
      "Diff: -19.43519493308014\n",
      "Diff: 18.016083110300546\n",
      "Diff: -9.354704302682073\n",
      "Diff: -15.486105403048938\n",
      "Diff: 23.982078788615762\n",
      "Diff: -21.134307500324212\n",
      "Diff: -42.221458967382205\n",
      "Diff: -27.188184462673963\n",
      "Diff: -13.655836112256196\n",
      "Diff: 44.72515166276716\n",
      "Diff: 18.166235470771788\n",
      "Diff: 7.066933045908808\n",
      "Diff: 9.401169382153242\n",
      "Diff: 2.1248393804700356\n",
      "Diff: 39.08067230841889\n",
      "Diff: -19.743922890681148\n",
      "Diff: -4.433090063557028\n",
      "Diff: -7.9636574904107675\n",
      "Diff: -21.143922890681146\n",
      "Diff: -16.298367737763332\n",
      "Diff: 18.111963256518383\n",
      "Diff: 4.400323771864517\n",
      "Diff: -1.5749406484509336\n",
      "Diff: 16.4165389336375\n",
      "Diff: 34.57231132150628\n",
      "Diff: 7.413845065298119\n",
      "Diff: -15.871800144005967\n",
      "Diff: 11.212103386744937\n",
      "Diff: 42.04767230063226\n",
      "Diff: -16.847994471116888\n",
      "Diff: 0.6121033867449377\n",
      "Diff: -9.89462282806635\n",
      "Diff: -12.576689550309837\n",
      "Diff: 15.496380224946734\n",
      "Diff: 3.5116310626384806\n",
      "Diff: -29.83003469350224\n",
      "Diff: -9.267189021036028\n",
      "Diff: -3.4269331865478305\n",
      "Diff: 28.85728135514728\n",
      "Diff: 18.705202959673443\n",
      "Diff: 24.27127040352717\n",
      "Diff: 11.466235470771792\n",
      "Diff: 30.012912240903823\n",
      "Diff: 20.234489320987223\n",
      "Diff: 3.533182127747569\n",
      "Diff: -16.807223123050665\n",
      "Diff: 13.847604841251467\n",
      "Diff: 5.188232215842987\n",
      "Diff: -6.187896613255063\n",
      "Diff: -9.681888435058013\n",
      "Diff: 4.525664801150562\n",
      "Diff: -12.258109788887669\n",
      "Diff: 7.312103386744937\n",
      "Diff: 32.23281097896397\n",
      "Diff: -23.80829145857902\n",
      "Diff: -2.760450911941007\n",
      "Diff: 8.03996332527722\n",
      "Diff: -18.066219796884667\n",
      "Diff: 26.23044013632052\n",
      "Diff: 11.212103386744937\n",
      "Diff: 3.645616469483077\n",
      "Diff: 46.21133961940359\n",
      "Diff: 11.30230766496679\n",
      "Diff: 40.689624430568436\n",
      "Diff: 10.843175974674523\n",
      "Diff: -26.242718644852722\n",
      "Diff: 49.123310449690166\n",
      "Diff: -5.403648206580215\n",
      "Diff: -27.381158658407003\n",
      "Diff: -0.005075877299532294\n",
      "Diff: 12.49260085613787\n",
      "Diff: 10.956077109318851\n",
      "67259.26224206548\n"
     ]
    }
   ],
   "source": [
    "print(Error(X, y, model))"
   ]
  },
  {
   "cell_type": "code",
   "execution_count": 190,
   "metadata": {},
   "outputs": [
    {
     "data": {
      "image/png": "[encoded data removed]",
      "text/plain": [
       "<Figure size 640x480 with 1 Axes>"
      ]
     },
     "metadata": {},
     "output_type": "display_data"
    }
   ],
   "source": [
    "#Plot points\n",
    "plt.plot(X, y, \"rx\", markersize=5)\n",
    "plt.plot()\n",
    "\n",
    "#Plot model\n",
    "y_vals = model(data_interval)\n",
    "\n",
    "plt.plot(data_interval, y_vals)\n",
    "plt.show()"
   ]
  }
 ],
 "metadata": {
  "kernelspec": {
   "display_name": "Python 3 (ipykernel)",
   "language": "python",
   "name": "python3"
  },
  "language_info": {
   "codemirror_mode": {
    "name": "ipython",
    "version": 3
   },
   "file_extension": ".py",
   "mimetype": "text/x-python",
   "name": "python",
   "nbconvert_exporter": "python",
   "pygments_lexer": "ipython3",
   "version": "3.11.7"
  }
 },
 "nbformat": 4,
 "nbformat_minor": 5
}
