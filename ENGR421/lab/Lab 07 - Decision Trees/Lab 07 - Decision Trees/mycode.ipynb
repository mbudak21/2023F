{
 "cells": [
  {
   "cell_type": "code",
   "execution_count": 1,
   "metadata": {},
   "outputs": [],
   "source": [
    "import numpy as np\n",
    "import pandas as pd\n",
    "\n",
    "def safelog2(x):\n",
    "    if x == 0:\n",
    "        return(0)\n",
    "    else:\n",
    "        return(np.log2(x))"
   ]
  },
  {
   "cell_type": "code",
   "execution_count": 2,
   "metadata": {},
   "outputs": [
    {
     "name": "stdout",
     "output_type": "stream",
     "text": [
      "N =  150\n",
      "D =  4\n",
      "X.shape =  (150, 4)\n",
      "y.shape =  (150, 1)\n",
      "K =  3\n",
      "X_train.shape =  (75, 4)\n",
      "x_test.shape =  (75, 4)\n",
      "N_train =  75\n",
      "N_test =  75\n"
     ]
    }
   ],
   "source": [
    "data_set = np.genfromtxt('lab07_data_set.csv', delimiter=',')\n",
    "\n",
    "N = data_set.shape[0]\n",
    "D = data_set.shape[1] - 1\n",
    "print(\"N = \", N)\n",
    "print(\"D = \", D)\n",
    "\n",
    "X = data_set[:, 0:D]\n",
    "y = data_set[:, D:(D+1)].astype(int)\n",
    "\n",
    "print(\"X.shape = \", X.shape)\n",
    "print(\"y.shape = \", y.shape)\n",
    "\n",
    "K = np.max(y)\n",
    "print(\"K = \", K)\n",
    "\n",
    "# Get first 25 samples of each class, and use them as training data\n",
    "train_indices = np.concatenate((np.arange(0, 25), \n",
    "                                np.arange(50, 75), \n",
    "                                np.arange(100, 125)))\n",
    "test_indices = np.setdiff1d(np.arange(N), train_indices)\n",
    "\n",
    "X_train = X[train_indices, :]\n",
    "y_train = y[train_indices, :]\n",
    "X_test = X[test_indices, :]\n",
    "y_test = y[test_indices, :]\n",
    "\n",
    "print(\"X_train.shape = \", X_train.shape)\n",
    "print(\"x_test.shape = \", X_test.shape)\n",
    "\n",
    "N_train = len(y_train)\n",
    "N_test = len(y_test)\n",
    "print(\"N_train = \", N_train)\n",
    "print(\"N_test = \", N_test)"
   ]
  },
  {
   "cell_type": "code",
   "execution_count": 3,
   "metadata": {},
   "outputs": [],
   "source": [
    "node_indices = {}\n",
    "is_terminal = {}\n",
    "need_split = {}\n",
    "\n",
    "node_features = {}\n",
    "node_splits = {}\n",
    "node_frequencies = {}\n",
    "\n",
    "\n",
    "node_indices[1] = np.array(range(N_train))\n",
    "is_terminal[1] = False\n",
    "need_split[1] = True"
   ]
  },
  {
   "cell_type": "code",
   "execution_count": 4,
   "metadata": {},
   "outputs": [
    {
     "name": "stdout",
     "output_type": "stream",
     "text": [
      "iterating...\n",
      "iterating...\n",
      "iterating...\n",
      "iterating...\n",
      "iterating...\n",
      "iterating...\n"
     ]
    }
   ],
   "source": [
    "# learning algorithm\n",
    "while True:\n",
    "    print(\"iterating...\")\n",
    "    # find nodes that need splitting\n",
    "    split_nodes = [key for key, value in need_split.items()\n",
    "                   if value == True]\n",
    "    # check whether we reach all terminal nodes\n",
    "    if len(split_nodes) == 0:\n",
    "        break\n",
    "    # find best split positions for all nodes\n",
    "    for split_node in split_nodes:\n",
    "        data_indices = node_indices[split_node]\n",
    "        need_split[split_node] = False\n",
    "        node_frequencies[split_node] = [np.sum(y_train[data_indices] == (c + 1))\n",
    "                                        for c in range(K)]\n",
    "        if len(np.unique(y_train[data_indices])) == 1:\n",
    "            is_terminal[split_node] = True\n",
    "        else:\n",
    "            is_terminal[split_node] = False\n",
    "\n",
    "            best_scores = np.repeat(0.0, D)\n",
    "            best_splits = np.repeat(0.0, D)\n",
    "            for d in range(D):\n",
    "                unique_values = np.sort(np.unique(X_train[data_indices, d]))\n",
    "                split_positions = (unique_values[1:] + unique_values[:-1]) / 2\n",
    "                split_scores = np.repeat(0.0, len(split_positions))\n",
    "                for s in range(len(split_positions)):\n",
    "                    left_indices = data_indices[X_train[data_indices, d] > \\\n",
    "                                   split_positions[s]]\n",
    "                    right_indices = data_indices[X_train[data_indices, d] <= \\\n",
    "                                    split_positions[s]]\n",
    "                    split_scores[s] = -(len(left_indices) / len(data_indices) * \\\n",
    "                                        np.sum([np.mean(y_train[left_indices] == (c + 1)) * \\\n",
    "                                                safelog2(np.mean(y_train[left_indices] == (c + 1)))\n",
    "                                                for c in range(K)]) + \\\n",
    "                                        len(right_indices) / len(data_indices) * \\\n",
    "                                        np.sum([np.mean(y_train[right_indices] == (c + 1)) * \\\n",
    "                                                safelog2(np.mean(y_train[right_indices] == (c + 1)))\n",
    "                                                for c in range(K)]))\n",
    "                best_scores[d] = np.min(split_scores)\n",
    "                best_splits[d] = split_positions[np.argmin(split_scores)]\n",
    "            # decide where to split on which feature\n",
    "            split_d = np.argmin(best_scores)\n",
    "\n",
    "            node_features[split_node] = split_d\n",
    "            node_splits[split_node] = best_splits[split_d]\n",
    "            \n",
    "            # create left node using the selected split\n",
    "            left_indices = data_indices[X_train[data_indices, split_d] > \\\n",
    "                           best_splits[split_d]]\n",
    "            node_indices[2 * split_node] = left_indices\n",
    "            is_terminal[2 * split_node] = False\n",
    "            need_split[2 * split_node] = True\n",
    "      \n",
    "            # create right node using the selected split\n",
    "            right_indices = data_indices[X_train[data_indices, split_d] <= \\\n",
    "                            best_splits[split_d]]\n",
    "            node_indices[2 * split_node + 1] = right_indices\n",
    "            is_terminal[2 * split_node + 1] = False\n",
    "            need_split[2 * split_node + 1] = True"
   ]
  },
  {
   "cell_type": "code",
   "execution_count": null,
   "metadata": {},
   "outputs": [],
   "source": []
  }
 ],
 "metadata": {
  "kernelspec": {
   "display_name": "Python 3",
   "language": "python",
   "name": "python3"
  },
  "language_info": {
   "codemirror_mode": {
    "name": "ipython",
    "version": 3
   },
   "file_extension": ".py",
   "mimetype": "text/x-python",
   "name": "python",
   "nbconvert_exporter": "python",
   "pygments_lexer": "ipython3",
   "version": "3.11.7"
  }
 },
 "nbformat": 4,
 "nbformat_minor": 2
}
