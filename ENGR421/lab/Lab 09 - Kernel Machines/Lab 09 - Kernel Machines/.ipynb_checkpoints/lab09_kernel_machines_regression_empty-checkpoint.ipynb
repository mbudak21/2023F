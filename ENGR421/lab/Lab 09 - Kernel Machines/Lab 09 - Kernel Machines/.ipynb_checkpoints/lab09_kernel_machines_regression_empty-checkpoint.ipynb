{
 "cells": [
  {
   "cell_type": "markdown",
   "metadata": {},
   "source": [
    "# Lab09: Kernel Machines\n",
    "## Support Vector Regression\n",
    "## Mehmet Gönen\n",
    "### April 30, 2021"
   ]
  },
  {
   "cell_type": "code",
   "execution_count": null,
   "metadata": {},
   "outputs": [],
   "source": []
  },
  {
   "cell_type": "markdown",
   "metadata": {},
   "source": [
    "## Importing Data"
   ]
  },
  {
   "cell_type": "code",
   "execution_count": null,
   "metadata": {},
   "outputs": [],
   "source": []
  },
  {
   "cell_type": "markdown",
   "metadata": {},
   "source": [
    "## Distance and Kernel Functions"
   ]
  },
  {
   "cell_type": "markdown",
   "metadata": {},
   "source": [
    "$\\begin{equation}\n",
    "    \\begin{split}\n",
    "        d(\\boldsymbol{x}_{i}, \\boldsymbol{x}_{j}) &= ||\\boldsymbol{x}_{i} - \\boldsymbol{x}_{j}||_{2} = \\sqrt{(\\boldsymbol{x}_{i} - \\boldsymbol{x}_{j})^{\\top} (\\boldsymbol{x}_{i} - \\boldsymbol{x}_{j})} = \\sqrt{\\sum\\limits_{d = 1}^{D}(x_{id} - x_{jd})^{2}} \\\\\n",
    "        k(\\boldsymbol{x}_{i}, \\boldsymbol{x}_{j}) &= \\exp\\left(-\\dfrac{||\\boldsymbol{x}_{i} -\\boldsymbol{x}_{j}||_{2}^{2}}{2s^{2}}\\right)\n",
    "    \\end{split}\n",
    "\\end{equation}$"
   ]
  },
  {
   "cell_type": "code",
   "execution_count": null,
   "metadata": {},
   "outputs": [],
   "source": []
  },
  {
   "cell_type": "markdown",
   "metadata": {},
   "source": [
    "## Learning Algorithm"
   ]
  },
  {
   "cell_type": "markdown",
   "metadata": {},
   "source": [
    "#### Primal Problem\n",
    "$\\begin{equation}\n",
    "\t\\begin{split}\n",
    "\t\t\\mbox{minimize}\\;\\;& \\dfrac{1}{2} ||\\boldsymbol{w}||_{2}^{2} + C \\sum\\limits_{i = 1}^{N} (\\xi_{i}^{+} + \\xi_{i}^{-}) \\\\\n",
    "\t\t\\mbox{with respect to}\\;\\;& \\boldsymbol{w} \\in \\mathbb{R}^{D},\\;\\; \\boldsymbol{\\xi}^{+} \\in \\mathbb{R}^{N},\\;\\; \\boldsymbol{\\xi}^{-} \\in \\mathbb{R}^{N},\\;\\; w_{0} \\in \\mathbb{R} \\\\\n",
    "\t\t\\mbox{subject to}\\;\\;& y_{i} - (\\boldsymbol{w}^{\\top} \\boldsymbol{x}_{i} + w_{0}) \\leq \\epsilon + \\xi_{i}^{+} \\;\\;\\;\\; i = 1,2,\\dots,N \\\\\n",
    "\t\t& (\\boldsymbol{w}^{\\top} \\boldsymbol{x}_{i} + w_{0}) - y_{i} \\leq \\epsilon + \\xi_{i}^{-} \\;\\;\\;\\; i = 1,2,\\dots,N \\\\\n",
    "\t\t& \\xi_{i}^{+} \\geq 0\\;\\;\\;\\; i = 1,2,\\dots,N \\\\\n",
    "    & \\xi_{i}^{-} \\geq 0\\;\\;\\;\\; i = 1,2,\\dots,N \\\\\n",
    "\t\t\\mbox{where}\\;\\;& C \\in \\mathbb{R}_{+}\n",
    "\t\\end{split}\n",
    "\\end{equation}$\n",
    "\n",
    "#### Dual Problem\n",
    "$\\begin{equation}\n",
    "\t\\begin{split}\n",
    "\t\t\\mbox{maximize}\\;\\;& \\sum\\limits_{i = 1}^{N} y_{i} (\\alpha_{i}^{+} - \\alpha_{i}^{-}) - \\epsilon \\sum\\limits_{i = 1}^{N} (\\alpha_{i}^{+} + \\alpha_{i}^{-}) - \\dfrac{1}{2} \\sum\\limits_{i = 1}^{N} \\sum\\limits_{j = 1}^{N} (\\alpha_{i}^{+} - \\alpha_{i}^{-}) (\\alpha_{j}^{+} - \\alpha_{j}^{-}) k(\\boldsymbol{x}_{i}, \\boldsymbol{x}_{j}) \\\\\n",
    "\t\t\\mbox{with respect to}\\;\\;& \\boldsymbol{\\alpha}^{+} \\in \\mathbb{R}^{N},\\;\\; \\boldsymbol{\\alpha}^{-} \\in \\mathbb{R}^{N} \\\\\n",
    "\t\t\\mbox{subject to}\\;\\;& \\sum\\limits_{i = 1}^{N} (\\alpha_{i}^{+} - \\alpha_{i}^{-}) = 0 \\\\\n",
    "\t\t& 0 \\leq \\alpha_{i}^{+} \\leq C\\;\\;\\;\\; i = 1,2,\\dots,N \\\\\n",
    "    & 0 \\leq \\alpha_{i}^{-} \\leq C\\;\\;\\;\\; i = 1,2,\\dots,N \\\\\n",
    "\t\t\\mbox{where}\\;\\;& C \\in \\mathbb{R}_{+},\\;\\;\\epsilon \\in \\mathbb{R}_{+}\n",
    "\t\\end{split}\n",
    "\\end{equation}$\n",
    "\n",
    "#### Dual Problem in Matrix-Vector Form\n",
    "$\\begin{equation}\n",
    "\t\\begin{split}\n",
    "\t\t\\mbox{minimize}\\;\\;&-\\boldsymbol{y}^{\\top} (\\boldsymbol{\\alpha}^{+} - \\boldsymbol{\\alpha}^{-}) + \\epsilon \\boldsymbol{1}^{\\top} (\\boldsymbol{\\alpha}^{+} + \\boldsymbol{\\alpha}^{-}) + \\dfrac{1}{2} (\\boldsymbol{\\alpha}^{+} - \\boldsymbol{\\alpha}^{-})^{\\top} \\mathbf{K} (\\boldsymbol{\\alpha}^{+} - \\boldsymbol{\\alpha}^{-}) \\\\\n",
    "\t\t\\mbox{with respect to}\\;\\;& \\boldsymbol{\\alpha}^{+} \\in \\mathbb{R}^{N},\\;\\; \\boldsymbol{\\alpha}^{-} \\in \\mathbb{R}^{N} \\\\\n",
    "\t\t\\mbox{subject to}\\;\\;& \\boldsymbol{1}^{\\top} (\\boldsymbol{\\alpha}^{+} - \\boldsymbol{\\alpha}^{-}) = 0 \\\\\n",
    "\t\t& \\boldsymbol{0} \\leq \\boldsymbol{\\alpha}^{+} \\leq C \\boldsymbol{1} \\\\\n",
    "\t\t& \\boldsymbol{0} \\leq \\boldsymbol{\\alpha}^{-} \\leq C \\boldsymbol{1} \\\\\n",
    "\t\t\\mbox{where}\\;\\;& C \\in \\mathbb{R}_{+}\n",
    "\t\\end{split}\n",
    "\\end{equation}$"
   ]
  },
  {
   "cell_type": "code",
   "execution_count": null,
   "metadata": {
    "scrolled": false
   },
   "outputs": [],
   "source": []
  },
  {
   "cell_type": "markdown",
   "metadata": {},
   "source": [
    "## Training Performance"
   ]
  },
  {
   "cell_type": "code",
   "execution_count": null,
   "metadata": {},
   "outputs": [],
   "source": []
  },
  {
   "cell_type": "markdown",
   "metadata": {},
   "source": [
    "## Visualization"
   ]
  },
  {
   "cell_type": "code",
   "execution_count": null,
   "metadata": {},
   "outputs": [],
   "source": []
  }
 ],
 "metadata": {
  "kernelspec": {
   "display_name": "Python 3",
   "language": "python",
   "name": "python3"
  },
  "language_info": {
   "codemirror_mode": {
    "name": "ipython",
    "version": 3
   },
   "file_extension": ".py",
   "mimetype": "text/x-python",
   "name": "python",
   "nbconvert_exporter": "python",
   "pygments_lexer": "ipython3",
   "version": "3.8.2"
  }
 },
 "nbformat": 4,
 "nbformat_minor": 4
}
